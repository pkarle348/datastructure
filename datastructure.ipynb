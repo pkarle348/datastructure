{
 "cells": [
  {
   "cell_type": "code",
   "execution_count": 3,
   "metadata": {},
   "outputs": [],
   "source": [
    "#Q.1 String Slicing\n",
    "#ans. string slicing can be done by 2 methods:\n",
    "    #1.by using i-build slice() method\n",
    "    #2.by using array slice [:]\n"
   ]
  },
  {
   "cell_type": "markdown",
   "metadata": {},
   "source": [
    "Method1: Using the slice() method\n",
    "The slice constructor creates a slice object representing the sert of indices specified by range(start, stop, step)"
   ]
  },
  {
   "cell_type": "markdown",
   "metadata": {},
   "source": [
    "example of slice()"
   ]
  },
  {
   "cell_type": "code",
   "execution_count": 8,
   "metadata": {},
   "outputs": [
    {
     "name": "stdout",
     "output_type": "stream",
     "text": [
      "string slicing\n",
      "PRA\n",
      "RI\n",
      "ASIA\n"
     ]
    }
   ],
   "source": [
    "string= 'PRATIKSHA'\n",
    "s1=slice(3)\n",
    "s2=slice(1,5,3)\n",
    "s3=slice(-1,-9,-2)\n",
    "print('string slicing')\n",
    "print(string[s1])\n",
    "print(string[s2])\n",
    "print(string[s3])"
   ]
  },
  {
   "cell_type": "code",
   "execution_count": 12,
   "metadata": {},
   "outputs": [
    {
     "name": "stdout",
     "output_type": "stream",
     "text": [
      " a\n"
     ]
    }
   ],
   "source": [
    "string1='I am a student'\n",
    "a=slice(1,3)\n",
    "print(string1[a])"
   ]
  },
  {
   "cell_type": "code",
   "execution_count": 18,
   "metadata": {},
   "outputs": [
    {
     "name": "stdout",
     "output_type": "stream",
     "text": [
      "rtkh,\n"
     ]
    }
   ],
   "source": [
    "s='pratiksha,payal,gauri'\n",
    "s1=slice(1,11,2)\n",
    "print(s[s1])\n"
   ]
  },
  {
   "cell_type": "markdown",
   "metadata": {},
   "source": [
    "Method2:Using list/array slicing [::]\n"
   ]
  },
  {
   "cell_type": "markdown",
   "metadata": {},
   "source": [
    "Example:"
   ]
  },
  {
   "cell_type": "code",
   "execution_count": 16,
   "metadata": {},
   "outputs": [
    {
     "name": "stdout",
     "output_type": "stream",
     "text": [
      "1,2\n"
     ]
    }
   ],
   "source": [
    "string='1,2,3,4,5,6'\n",
    "print(string[:3])"
   ]
  },
  {
   "cell_type": "code",
   "execution_count": 19,
   "metadata": {},
   "outputs": [
    {
     "name": "stdout",
     "output_type": "stream",
     "text": [
      "pratik\n"
     ]
    }
   ],
   "source": [
    "s1=\"pratiksha,sneha,vyshnavi\"\n",
    "print(s1[:6])"
   ]
  },
  {
   "cell_type": "code",
   "execution_count": 20,
   "metadata": {},
   "outputs": [
    {
     "name": "stdout",
     "output_type": "stream",
     "text": [
      "dtsin\n"
     ]
    }
   ],
   "source": [
    "course='datascience'\n",
    "print(course[0:9:2])"
   ]
  },
  {
   "cell_type": "code",
   "execution_count": 22,
   "metadata": {},
   "outputs": [
    {
     "name": "stdout",
     "output_type": "stream",
     "text": [
      "gesh\n"
     ]
    }
   ],
   "source": [
    "s= 'Yogesh'\n",
    "print(s[2:])"
   ]
  },
  {
   "cell_type": "code",
   "execution_count": 25,
   "metadata": {},
   "outputs": [],
   "source": [
    "#Q.2 Key features of lists in python.\n",
    "#Ans.Lists are ordered.\n",
    "    #Lists can contain any arbitrary objects.\n",
    "    #List elements can be accessed by index.\n",
    "    #Lists can be nested to arbitrary depth.\n",
    "    #Lists are mutable.\n",
    "    #Lists are dynamic."
   ]
  },
  {
   "cell_type": "code",
   "execution_count": null,
   "metadata": {},
   "outputs": [],
   "source": [
    "# Q.3 Compare and contrast lists and Tuples with example.\n",
    "#Ans. "
   ]
  },
  {
   "cell_type": "markdown",
   "metadata": {},
   "source": [
    "Lists:"
   ]
  },
  {
   "cell_type": "code",
   "execution_count": null,
   "metadata": {},
   "outputs": [],
   "source": [
    "#Lists are mutable\n",
    "#The implication of interaction is time consumung.\n",
    "#List consumes more memmory.\n",
    "#Lists have several built in method.\n",
    "#Unexcepted changes and errors are more likely to occur."
   ]
  },
  {
   "cell_type": "markdown",
   "metadata": {},
   "source": [
    "example of list"
   ]
  },
  {
   "cell_type": "code",
   "execution_count": 26,
   "metadata": {},
   "outputs": [
    {
     "data": {
      "text/plain": [
       "['pratiksha', 23, 56, 'karle']"
      ]
     },
     "execution_count": 26,
     "metadata": {},
     "output_type": "execute_result"
    }
   ],
   "source": [
    "list= ['pratiksha',23,56,'karle']\n",
    "list"
   ]
  },
  {
   "cell_type": "code",
   "execution_count": 28,
   "metadata": {},
   "outputs": [
    {
     "data": {
      "text/plain": [
       "list"
      ]
     },
     "execution_count": 28,
     "metadata": {},
     "output_type": "execute_result"
    }
   ],
   "source": [
    "type(list)"
   ]
  },
  {
   "cell_type": "markdown",
   "metadata": {},
   "source": [
    "Tuples."
   ]
  },
  {
   "cell_type": "code",
   "execution_count": 1,
   "metadata": {},
   "outputs": [],
   "source": [
    "# Tuples are immutable \n",
    "#implication of iterations is comparatively faster.\n",
    "# tuple data type is appropriate for accessing the elements.\n",
    "#Touples consumes less memmory as compaed to lists.\n",
    "#Touples does not have many built in methods.\n",
    "#because touples dont change they are far less error prone."
   ]
  },
  {
   "cell_type": "markdown",
   "metadata": {},
   "source": [
    "Example of Tuples"
   ]
  },
  {
   "cell_type": "code",
   "execution_count": 2,
   "metadata": {},
   "outputs": [
    {
     "data": {
      "text/plain": [
       "(1, 2, 3, 4, 5)"
      ]
     },
     "execution_count": 2,
     "metadata": {},
     "output_type": "execute_result"
    }
   ],
   "source": [
    "t= (1,2,3,4,5)\n",
    "t"
   ]
  },
  {
   "cell_type": "code",
   "execution_count": 3,
   "metadata": {},
   "outputs": [
    {
     "data": {
      "text/plain": [
       "tuple"
      ]
     },
     "execution_count": 3,
     "metadata": {},
     "output_type": "execute_result"
    }
   ],
   "source": [
    "type(t)"
   ]
  },
  {
   "cell_type": "code",
   "execution_count": 7,
   "metadata": {},
   "outputs": [
    {
     "data": {
      "text/plain": [
       "{23, 7, 8, 9, 'karle', 'pratiksha'}"
      ]
     },
     "execution_count": 7,
     "metadata": {},
     "output_type": "execute_result"
    }
   ],
   "source": [
    "#Q.5 Describe the key feaures of sets and provide examples of their use.\n",
    "# ans.\n",
    "# 1.Data in sets are unique. \n",
    "#ex.\n",
    "s={'pratiksha', 23,23,7,8,8,9 ,'karle','pratiksha'}\n",
    "s"
   ]
  },
  {
   "cell_type": "code",
   "execution_count": 13,
   "metadata": {},
   "outputs": [],
   "source": [
    "#2. Sets are unordered\n",
    "#ex.\n",
    "s={'pratiksha', 23,23,7,8,8,9 ,'karle','pratiksha'}\n",
    "s(1)\n",
    "\n",
    "#shows an error \n"
   ]
  },
  {
   "cell_type": "code",
   "execution_count": 17,
   "metadata": {},
   "outputs": [
    {
     "data": {
      "text/plain": [
       "{'aakash', 'akshay', 'vikas'}"
      ]
     },
     "execution_count": 17,
     "metadata": {},
     "output_type": "execute_result"
    }
   ],
   "source": [
    "#3.sets are mutable\n",
    "#ex.\n",
    "s={'akshay','aakash','vikas'}\n",
    "s\n"
   ]
  },
  {
   "cell_type": "code",
   "execution_count": 20,
   "metadata": {},
   "outputs": [
    {
     "data": {
      "text/plain": [
       "{'aakash', 'akshay', 'vijay', 'vikas'}"
      ]
     },
     "execution_count": 20,
     "metadata": {},
     "output_type": "execute_result"
    }
   ],
   "source": [
    "s.update(['vijay'])\n",
    "s"
   ]
  },
  {
   "cell_type": "code",
   "execution_count": 21,
   "metadata": {},
   "outputs": [
    {
     "data": {
      "text/plain": [
       "{'aakash', 'akshay', 'pratiksha', 'vijay', 'vikas'}"
      ]
     },
     "execution_count": 21,
     "metadata": {},
     "output_type": "execute_result"
    }
   ],
   "source": [
    "s.add('pratiksha')\n",
    "s"
   ]
  },
  {
   "cell_type": "code",
   "execution_count": null,
   "metadata": {},
   "outputs": [],
   "source": [
    "# Q6.discuss the use cases of tuples and sets in Python programming.\n",
    "#ans.\n"
   ]
  },
  {
   "cell_type": "markdown",
   "metadata": {},
   "source": [
    "Tuples"
   ]
  },
  {
   "cell_type": "code",
   "execution_count": 23,
   "metadata": {},
   "outputs": [
    {
     "data": {
      "text/plain": [
       "('banglore', 'karnataka', 'kerala', 'haidarabad', 'maisure', 'aandhra')"
      ]
     },
     "execution_count": 23,
     "metadata": {},
     "output_type": "execute_result"
    }
   ],
   "source": [
    "t1=('banglore','karnataka','kerala')\n",
    "t2=('haidarabad','maisure','aandhra')\n",
    "t1+t2"
   ]
  },
  {
   "cell_type": "markdown",
   "metadata": {},
   "source": [
    "sets"
   ]
  },
  {
   "cell_type": "code",
   "execution_count": 24,
   "metadata": {},
   "outputs": [
    {
     "data": {
      "text/plain": [
       "{'coding', 'hiking', 'photography', 'reading', 'travelling'}"
      ]
     },
     "execution_count": 24,
     "metadata": {},
     "output_type": "execute_result"
    }
   ],
   "source": [
    "s1={'hiking','reading','coding'}\n",
    "s2={'coding','photography','travelling'}\n",
    "s1|s2"
   ]
  },
  {
   "cell_type": "code",
   "execution_count": 25,
   "metadata": {},
   "outputs": [
    {
     "data": {
      "text/plain": [
       "{'coding'}"
      ]
     },
     "execution_count": 25,
     "metadata": {},
     "output_type": "execute_result"
    }
   ],
   "source": [
    "s1&s2"
   ]
  },
  {
   "cell_type": "code",
   "execution_count": 26,
   "metadata": {},
   "outputs": [
    {
     "data": {
      "text/plain": [
       "{'hiking', 'reading'}"
      ]
     },
     "execution_count": 26,
     "metadata": {},
     "output_type": "execute_result"
    }
   ],
   "source": [
    "s1-s2"
   ]
  },
  {
   "cell_type": "code",
   "execution_count": 27,
   "metadata": {},
   "outputs": [
    {
     "data": {
      "text/plain": [
       "{'hiking', 'photography', 'reading', 'travelling'}"
      ]
     },
     "execution_count": 27,
     "metadata": {},
     "output_type": "execute_result"
    }
   ],
   "source": [
    "s1^s2"
   ]
  },
  {
   "cell_type": "code",
   "execution_count": 28,
   "metadata": {},
   "outputs": [
    {
     "data": {
      "text/plain": [
       "{'name': 'pratiksha', 'contact': '9588', 'mail': 'pkarle'}"
      ]
     },
     "execution_count": 28,
     "metadata": {},
     "output_type": "execute_result"
    }
   ],
   "source": [
    "#Q.7 Describe how to add, modify, and delete items in a dictionary with examples.\n",
    "#ans.\n",
    "d={'name':'pratiksha','contact':'9588','mail':'pkarle'}\n",
    "d"
   ]
  },
  {
   "cell_type": "code",
   "execution_count": 30,
   "metadata": {},
   "outputs": [
    {
     "data": {
      "text/plain": [
       "{'name': 'pratiksha',\n",
       " 'contact': '9588',\n",
       " 'mail': 'pkarle',\n",
       " 'address': 'Banglore'}"
      ]
     },
     "execution_count": 30,
     "metadata": {},
     "output_type": "execute_result"
    }
   ],
   "source": [
    "# add \n",
    "d['address']='Banglore'\n",
    "d"
   ]
  },
  {
   "cell_type": "code",
   "execution_count": 33,
   "metadata": {},
   "outputs": [
    {
     "data": {
      "text/plain": [
       "{'vijay': {'100', '80', '90'},\n",
       " 'ajay': {'100', '80', '90'},\n",
       " 'aakash': {'100', '80', '90'}}"
      ]
     },
     "execution_count": 33,
     "metadata": {},
     "output_type": "execute_result"
    }
   ],
   "source": [
    "#modify\n",
    "student={'ajay','vijay','aakash'}\n",
    "marks={'80','90','100'}\n",
    "{student:marks for student,mark in zip(student,marks)}\n"
   ]
  },
  {
   "cell_type": "code",
   "execution_count": 34,
   "metadata": {},
   "outputs": [
    {
     "name": "stdout",
     "output_type": "stream",
     "text": [
      "('a', 8)\n",
      "('b', 9)\n",
      "('c', 10)\n"
     ]
    }
   ],
   "source": [
    "student=['a','b','c']\n",
    "marks=[8,9,10]\n",
    "for i in zip (student,marks):\n",
    "    print(i)"
   ]
  },
  {
   "cell_type": "code",
   "execution_count": 36,
   "metadata": {},
   "outputs": [],
   "source": [
    "# delete items\n",
    "del [d]"
   ]
  },
  {
   "cell_type": "code",
   "execution_count": 43,
   "metadata": {},
   "outputs": [
    {
     "data": {
      "text/plain": [
       "{'a': '1,2', 'b': '4,2', 'c': '7,2'}"
      ]
     },
     "execution_count": 43,
     "metadata": {},
     "output_type": "execute_result"
    }
   ],
   "source": [
    "# Q8. Discuss the importance of dictionary keys being immutable and provide examples.\n",
    "#ans.\n",
    "# #If the key were a mutable object, its value could change, and thus its hash could also change.\n",
    "#since whoever changes the key object can't tell that it was being used as adictionary key, it can't move the entry around in the dictionary.\n",
    "d={\"a\":'1,2',\"b\":'4,2',\"c\":'7,2'}\n",
    "d"
   ]
  },
  {
   "cell_type": "code",
   "execution_count": null,
   "metadata": {},
   "outputs": [],
   "source": []
  }
 ],
 "metadata": {
  "language_info": {
   "name": "python"
  }
 },
 "nbformat": 4,
 "nbformat_minor": 2
}
